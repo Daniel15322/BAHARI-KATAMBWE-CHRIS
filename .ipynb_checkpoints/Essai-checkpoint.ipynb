{
 "cells": [
  {
   "cell_type": "markdown",
   "id": "e87cb512-d7f8-410e-979c-f73a3ab904c2",
   "metadata": {},
   "source": [
    "# A.Importation des librairies"
   ]
  },
  {
   "cell_type": "code",
   "execution_count": 4,
   "id": "7e7d456c-f731-47df-979e-c98241eaf7b3",
   "metadata": {},
   "outputs": [],
   "source": [
    "import numpy as np"
   ]
  },
  {
   "cell_type": "markdown",
   "id": "5e0de94d-0d4a-4014-9eec-647dd82ce5bf",
   "metadata": {},
   "source": [
    "## 1.Tableau"
   ]
  },
  {
   "cell_type": "markdown",
   "id": "c7ceb47b-ad70-4aa9-a673-ed8871a91504",
   "metadata": {},
   "source": [
    "### 1.1.Tableau à 1D"
   ]
  },
  {
   "cell_type": "code",
   "execution_count": 5,
   "id": "62b6e79b-5674-49cb-971b-81b7a4711aa5",
   "metadata": {},
   "outputs": [],
   "source": [
    "tab_1D=np.array ([2,4,6,8,10,12,14])"
   ]
  },
  {
   "cell_type": "code",
   "execution_count": 6,
   "id": "0254366d-1a51-4d3f-a8d0-814ecf4e22c8",
   "metadata": {},
   "outputs": [
    {
     "data": {
      "text/plain": [
       "array([ 2,  4,  6,  8, 10, 12, 14])"
      ]
     },
     "execution_count": 6,
     "metadata": {},
     "output_type": "execute_result"
    }
   ],
   "source": [
    "tab_1D"
   ]
  },
  {
   "cell_type": "code",
   "execution_count": 7,
   "id": "d0e1204d-2fe5-4759-a966-f7ce29fc2c54",
   "metadata": {},
   "outputs": [
    {
     "name": "stdout",
     "output_type": "stream",
     "text": [
      "[ 2  4  6  8 10 12 14]\n"
     ]
    }
   ],
   "source": [
    "print(tab_1D)"
   ]
  },
  {
   "cell_type": "code",
   "execution_count": 8,
   "id": "0cf84b72-3eee-416a-aca1-821cfbbae13f",
   "metadata": {},
   "outputs": [
    {
     "name": "stdout",
     "output_type": "stream",
     "text": [
      "(7,)\n"
     ]
    }
   ],
   "source": [
    "print(tab_1D.shape)"
   ]
  },
  {
   "cell_type": "code",
   "execution_count": 10,
   "id": "a661b9df-9503-4893-b41c-c41975c7e732",
   "metadata": {},
   "outputs": [
    {
     "data": {
      "text/plain": [
       "numpy.ndarray"
      ]
     },
     "execution_count": 10,
     "metadata": {},
     "output_type": "execute_result"
    }
   ],
   "source": [
    "type(tab_1D)"
   ]
  },
  {
   "cell_type": "markdown",
   "id": "690a74c9-b5af-4915-a7e8-1d15e6427f1a",
   "metadata": {},
   "source": [
    "### 1.2.Tableau à 2D"
   ]
  },
  {
   "cell_type": "code",
   "execution_count": 11,
   "id": "e48db3f7-3391-4881-bb80-f254349fc6f4",
   "metadata": {},
   "outputs": [],
   "source": [
    "tab_2D=np.array([[1,3,5,7,8], \n",
    "                 [10,30,50,70,80]])"
   ]
  },
  {
   "cell_type": "code",
   "execution_count": 12,
   "id": "7fbfe3ac-5857-42b9-9b55-855a503229c7",
   "metadata": {},
   "outputs": [
    {
     "data": {
      "text/plain": [
       "array([[ 1,  3,  5,  7,  8],\n",
       "       [10, 30, 50, 70, 80]])"
      ]
     },
     "execution_count": 12,
     "metadata": {},
     "output_type": "execute_result"
    }
   ],
   "source": [
    "tab_2D"
   ]
  },
  {
   "cell_type": "code",
   "execution_count": 13,
   "id": "d99acfb2-deda-4cd1-8390-0674ae25637c",
   "metadata": {},
   "outputs": [
    {
     "name": "stdout",
     "output_type": "stream",
     "text": [
      "Dimension du tableau (2, 5)\n"
     ]
    }
   ],
   "source": [
    "print('Dimension du tableau', tab_2D.shape)"
   ]
  },
  {
   "cell_type": "code",
   "execution_count": 14,
   "id": "105b3ab9-5d03-426f-8fe2-ca508f513ea8",
   "metadata": {},
   "outputs": [
    {
     "name": "stdout",
     "output_type": "stream",
     "text": [
      "Type du tableau <class 'numpy.ndarray'>\n"
     ]
    }
   ],
   "source": [
    "print('Type du tableau', type(tab_2D))"
   ]
  },
  {
   "cell_type": "code",
   "execution_count": 15,
   "id": "b800715d-f311-467e-ad5e-0ee77fb20ada",
   "metadata": {},
   "outputs": [
    {
     "name": "stdout",
     "output_type": "stream",
     "text": [
      "[[ 1  3  5  7  8]\n",
      " [10 30 50 70 80]]\n"
     ]
    }
   ],
   "source": [
    "print(tab_2D)"
   ]
  },
  {
   "cell_type": "markdown",
   "id": "0db16579-879f-4193-b806-ac7a107c3437",
   "metadata": {},
   "source": [
    "### 1.3.Tableau à 3D"
   ]
  },
  {
   "cell_type": "code",
   "execution_count": 16,
   "id": "b09b6210-b2b3-46b2-875b-0dc7f92e1b3e",
   "metadata": {},
   "outputs": [],
   "source": [
    "tab_3D=np.array([[[1,3,5,7,8,6], \n",
    "                 [15,35,55,75,85,65]]])"
   ]
  },
  {
   "cell_type": "code",
   "execution_count": 17,
   "id": "de7c808d-b41e-4ccb-bef3-0270ec2d5d05",
   "metadata": {},
   "outputs": [
    {
     "name": "stdout",
     "output_type": "stream",
     "text": [
      "Dimension du tableau (1, 2, 6)\n"
     ]
    }
   ],
   "source": [
    "print('Dimension du tableau', tab_3D.shape)"
   ]
  },
  {
   "cell_type": "code",
   "execution_count": 18,
   "id": "1e8540a2-6934-4101-9319-8fc458a361d6",
   "metadata": {},
   "outputs": [
    {
     "name": "stdout",
     "output_type": "stream",
     "text": [
      "Le type du tableau <class 'numpy.ndarray'>\n"
     ]
    }
   ],
   "source": [
    "print('Le type du tableau', type(tab_3D))"
   ]
  },
  {
   "cell_type": "markdown",
   "id": "280d928f-4df6-471c-be38-8ea509a9c1ff",
   "metadata": {},
   "source": [
    "### 1.4.Tableau à 4D"
   ]
  },
  {
   "cell_type": "code",
   "execution_count": 19,
   "id": "8c520257-d334-4d31-bf66-99af2e494a09",
   "metadata": {},
   "outputs": [],
   "source": [
    "tab_4D=np.array([[[[11,22,33,44,55],\n",
    "                  [111,221,331,441,551],\n",
    "                  [112,222,332,442,552]]]])"
   ]
  },
  {
   "cell_type": "code",
   "execution_count": 20,
   "id": "549c7324-1ef5-4e7b-8b69-3b16596d05af",
   "metadata": {},
   "outputs": [
    {
     "name": "stdout",
     "output_type": "stream",
     "text": [
      "[[[[ 11  22  33  44  55]\n",
      "   [111 221 331 441 551]\n",
      "   [112 222 332 442 552]]]]\n"
     ]
    }
   ],
   "source": [
    "print (tab_4D)"
   ]
  },
  {
   "cell_type": "code",
   "execution_count": 21,
   "id": "e43d2631-6017-42c0-8109-4f10fc667554",
   "metadata": {},
   "outputs": [
    {
     "name": "stdout",
     "output_type": "stream",
     "text": [
      "Dimension du tableau (1, 1, 3, 5)\n"
     ]
    }
   ],
   "source": [
    "print('Dimension du tableau', tab_4D.shape)"
   ]
  },
  {
   "cell_type": "code",
   "execution_count": 22,
   "id": "a003dc22-b11f-46ef-891c-d7ba9b688a7c",
   "metadata": {},
   "outputs": [
    {
     "name": "stdout",
     "output_type": "stream",
     "text": [
      "<class 'numpy.ndarray'>\n"
     ]
    }
   ],
   "source": [
    "print (type(tab_4D))"
   ]
  },
  {
   "cell_type": "code",
   "execution_count": null,
   "id": "2eb92de7-4b0a-40e8-8f0f-4c3c0dfd9f7b",
   "metadata": {},
   "outputs": [],
   "source": []
  }
 ],
 "metadata": {
  "kernelspec": {
   "display_name": "Python 3 (ipykernel)",
   "language": "python",
   "name": "python3"
  },
  "language_info": {
   "codemirror_mode": {
    "name": "ipython",
    "version": 3
   },
   "file_extension": ".py",
   "mimetype": "text/x-python",
   "name": "python",
   "nbconvert_exporter": "python",
   "pygments_lexer": "ipython3",
   "version": "3.10.16"
  }
 },
 "nbformat": 4,
 "nbformat_minor": 5
}
